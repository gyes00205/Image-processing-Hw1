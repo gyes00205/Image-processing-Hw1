{
  "nbformat": 4,
  "nbformat_minor": 0,
  "metadata": {
    "kernelspec": {
      "display_name": "Python 3",
      "language": "python",
      "name": "python3"
    },
    "language_info": {
      "codemirror_mode": {
        "name": "ipython",
        "version": 3
      },
      "file_extension": ".py",
      "mimetype": "text/x-python",
      "name": "python",
      "nbconvert_exporter": "python",
      "pygments_lexer": "ipython3",
      "version": "3.7.7"
    },
    "colab": {
      "name": "train.ipynb",
      "provenance": []
    },
    "accelerator": "GPU"
  },
  "cells": [
    {
      "cell_type": "code",
      "metadata": {
        "id": "vGBCb64x5EHa"
      },
      "source": [
        "import cv2\n",
        "import numpy as np\n",
        "# from PyQt5.QtWidgets import QApplication, QWidget, QPushButton, QVBoxLayout, QLabel, QInputDialog, QLineEdit\n",
        "import matplotlib.pyplot as plt\n",
        "import tensorflow as tf\n",
        "from tensorflow import keras\n",
        "from tensorflow.keras import datasets, layers, optimizers, models, regularizers\n",
        "from tensorflow.keras.preprocessing.image import ImageDataGenerator\n",
        "from tensorflow.keras.models import Sequential\n",
        "from tensorflow.keras.layers import Dense, Dropout, Activation, Flatten\n",
        "from tensorflow.keras.layers import Conv2D, MaxPooling2D, BatchNormalization\n",
        "from tensorflow.keras import optimizers\n",
        "import numpy as np\n",
        "# from tensorflow.keras.layers.core import Lambda\n",
        "from tensorflow.keras import backend as K\n",
        "from tensorflow.keras.optimizers import SGD\n",
        "from tensorflow.keras import regularizers"
      ],
      "execution_count": 2,
      "outputs": []
    },
    {
      "cell_type": "code",
      "metadata": {
        "id": "rLmr3rYG5EHi",
        "outputId": "e175f532-db1d-4c66-861e-677e940bf61b",
        "colab": {
          "base_uri": "https://localhost:8080/"
        }
      },
      "source": [
        "(x_train, y_train), (x_test, y_test) = datasets.cifar10.load_data()\n",
        "x_train = x_train.astype('float32')\n",
        "x_test = x_test.astype('float32')\n",
        "y_train = keras.utils.to_categorical(y_train, 10)\n",
        "y_test = keras.utils.to_categorical(y_test, 10)"
      ],
      "execution_count": 3,
      "outputs": [
        {
          "output_type": "stream",
          "text": [
            "Downloading data from https://www.cs.toronto.edu/~kriz/cifar-10-python.tar.gz\n",
            "170500096/170498071 [==============================] - 2s 0us/step\n"
          ],
          "name": "stdout"
        }
      ]
    },
    {
      "cell_type": "code",
      "metadata": {
        "id": "9WPqm2Uf5EHl"
      },
      "source": [
        "weight_decay = 0.0005\n",
        "nb_epoch=20\n",
        "batch_size=32\n",
        "learning_rate = 0.001"
      ],
      "execution_count": 4,
      "outputs": []
    },
    {
      "cell_type": "code",
      "metadata": {
        "id": "o7hHkI6m5EHn"
      },
      "source": [
        "#layer1 32*32*3\n",
        "model = keras.Sequential()\n",
        "model.add(Conv2D(64, (3, 3), padding='same',\n",
        "input_shape=(32,32,3),kernel_regularizer=regularizers.l2(weight_decay)))\n",
        "model.add(Activation('relu'))\n",
        "model.add(BatchNormalization())\n",
        "model.add(Dropout(0.3))\n",
        "#layer2 32*32*64\n",
        "model.add(Conv2D(64, (3, 3), padding='same',kernel_regularizer=regularizers.l2(weight_decay)))\n",
        "model.add(Activation('relu'))\n",
        "model.add(BatchNormalization())\n",
        "model.add(MaxPooling2D(pool_size=(2, 2)))\n",
        "#layer3 16*16*64\n",
        "model.add(Conv2D(128, (3, 3), padding='same',kernel_regularizer=regularizers.l2(weight_decay)))\n",
        "model.add(Activation('relu'))\n",
        "model.add(BatchNormalization())\n",
        "model.add(Dropout(0.4))\n",
        "#layer4 16*16*128\n",
        "model.add(Conv2D(128, (3, 3), padding='same',kernel_regularizer=regularizers.l2(weight_decay)))\n",
        "model.add(Activation('relu'))\n",
        "model.add(BatchNormalization())\n",
        "model.add(MaxPooling2D(pool_size=(2, 2)))\n",
        "#layer5 8*8*128\n",
        "model.add(Conv2D(256, (3, 3), padding='same',kernel_regularizer=regularizers.l2(weight_decay)))\n",
        "model.add(Activation('relu'))\n",
        "model.add(BatchNormalization())\n",
        "model.add(Dropout(0.4))\n",
        "#layer6 8*8*256\n",
        "model.add(Conv2D(256, (3, 3), padding='same',kernel_regularizer=regularizers.l2(weight_decay)))\n",
        "model.add(Activation('relu'))\n",
        "model.add(BatchNormalization())\n",
        "model.add(Dropout(0.4))\n",
        "#layer7 8*8*256\n",
        "model.add(Conv2D(256, (3, 3), padding='same',kernel_regularizer=regularizers.l2(weight_decay)))\n",
        "model.add(Activation('relu'))\n",
        "model.add(BatchNormalization())\n",
        "model.add(MaxPooling2D(pool_size=(2, 2)))\n",
        "#layer8 4*4*256\n",
        "model.add(Conv2D(512, (3, 3), padding='same',kernel_regularizer=regularizers.l2(weight_decay)))\n",
        "model.add(Activation('relu'))\n",
        "model.add(BatchNormalization())\n",
        "model.add(Dropout(0.4))\n",
        "#layer9 4*4*512\n",
        "model.add(Conv2D(512, (3, 3), padding='same',kernel_regularizer=regularizers.l2(weight_decay)))\n",
        "model.add(Activation('relu'))\n",
        "model.add(BatchNormalization())\n",
        "model.add(Dropout(0.4))\n",
        "#layer10 4*4*512\n",
        "model.add(Conv2D(512, (3, 3), padding='same',kernel_regularizer=regularizers.l2(weight_decay)))\n",
        "model.add(Activation('relu'))\n",
        "model.add(BatchNormalization())\n",
        "model.add(MaxPooling2D(pool_size=(2, 2)))\n",
        "#layer11 2*2*512\n",
        "model.add(Conv2D(512, (3, 3), padding='same',kernel_regularizer=regularizers.l2(weight_decay)))\n",
        "model.add(Activation('relu'))\n",
        "model.add(BatchNormalization())\n",
        "model.add(Dropout(0.4))\n",
        "#layer12 2*2*512\n",
        "model.add(Conv2D(512, (3, 3), padding='same',kernel_regularizer=regularizers.l2(weight_decay)))\n",
        "model.add(Activation('relu'))\n",
        "model.add(BatchNormalization())\n",
        "model.add(Dropout(0.4))\n",
        "#layer13 2*2*512\n",
        "model.add(Conv2D(512, (3, 3), padding='same',kernel_regularizer=regularizers.l2(weight_decay)))\n",
        "model.add(Activation('relu'))\n",
        "model.add(BatchNormalization())\n",
        "model.add(MaxPooling2D(pool_size=(2, 2)))\n",
        "model.add(Dropout(0.5))\n",
        "#layer14 1*1*512\n",
        "model.add(Flatten())\n",
        "model.add(Dense(512,kernel_regularizer=regularizers.l2(weight_decay)))\n",
        "model.add(Activation('relu'))\n",
        "model.add(BatchNormalization())\n",
        "#layer15 512\n",
        "model.add(Dense(512,kernel_regularizer=regularizers.l2(weight_decay)))\n",
        "model.add(Activation('relu'))\n",
        "model.add(BatchNormalization())\n",
        "#layer16 512\n",
        "model.add(Dropout(0.5))\n",
        "model.add(Dense(10))\n",
        "model.add(Activation('softmax'))"
      ],
      "execution_count": 5,
      "outputs": []
    },
    {
      "cell_type": "code",
      "metadata": {
        "id": "XWqSH-Vg5EHq"
      },
      "source": [
        "sgd = SGD(lr=learning_rate, decay=1e-6, momentum=0.9, nesterov=True)"
      ],
      "execution_count": 6,
      "outputs": []
    },
    {
      "cell_type": "code",
      "metadata": {
        "id": "DsEtIjBU5EHt"
      },
      "source": [
        "model.compile(loss='categorical_crossentropy', optimizer=sgd,metrics=['accuracy'])"
      ],
      "execution_count": 7,
      "outputs": []
    },
    {
      "cell_type": "code",
      "metadata": {
        "id": "6k3nDg8N5EHw",
        "outputId": "e15b0f69-b952-40d7-b361-2a882da307c1",
        "colab": {
          "base_uri": "https://localhost:8080/"
        }
      },
      "source": [
        "history = model.fit(x_train,y_train,epochs=nb_epoch, batch_size=batch_size, validation_split=0.1, verbose=1)"
      ],
      "execution_count": 8,
      "outputs": [
        {
          "output_type": "stream",
          "text": [
            "Epoch 1/20\n",
            "1407/1407 [==============================] - 49s 35ms/step - loss: 4.9297 - accuracy: 0.2061 - val_loss: 4.4548 - val_accuracy: 0.2824\n",
            "Epoch 2/20\n",
            "1407/1407 [==============================] - 50s 35ms/step - loss: 4.3010 - accuracy: 0.3113 - val_loss: 4.3251 - val_accuracy: 0.2988\n",
            "Epoch 3/20\n",
            "1407/1407 [==============================] - 49s 35ms/step - loss: 4.0618 - accuracy: 0.3915 - val_loss: 4.0938 - val_accuracy: 0.3634\n",
            "Epoch 4/20\n",
            "1407/1407 [==============================] - 50s 35ms/step - loss: 3.8592 - accuracy: 0.4531 - val_loss: 3.7479 - val_accuracy: 0.4690\n",
            "Epoch 5/20\n",
            "1407/1407 [==============================] - 49s 35ms/step - loss: 3.6759 - accuracy: 0.5043 - val_loss: 3.6109 - val_accuracy: 0.5300\n",
            "Epoch 6/20\n",
            "1407/1407 [==============================] - 49s 35ms/step - loss: 3.5149 - accuracy: 0.5455 - val_loss: 3.5913 - val_accuracy: 0.5428\n",
            "Epoch 7/20\n",
            "1407/1407 [==============================] - 49s 35ms/step - loss: 3.3619 - accuracy: 0.5831 - val_loss: 3.2934 - val_accuracy: 0.6156\n",
            "Epoch 8/20\n",
            "1407/1407 [==============================] - 49s 35ms/step - loss: 3.2311 - accuracy: 0.6149 - val_loss: 3.2626 - val_accuracy: 0.6020\n",
            "Epoch 9/20\n",
            "1407/1407 [==============================] - 49s 35ms/step - loss: 3.1068 - accuracy: 0.6400 - val_loss: 3.2572 - val_accuracy: 0.6234\n",
            "Epoch 10/20\n",
            "1407/1407 [==============================] - 49s 35ms/step - loss: 3.0001 - accuracy: 0.6626 - val_loss: 3.0990 - val_accuracy: 0.6402\n",
            "Epoch 11/20\n",
            "1407/1407 [==============================] - 50s 35ms/step - loss: 2.8941 - accuracy: 0.6854 - val_loss: 2.8951 - val_accuracy: 0.6900\n",
            "Epoch 12/20\n",
            "1407/1407 [==============================] - 49s 35ms/step - loss: 2.7997 - accuracy: 0.7024 - val_loss: 2.7170 - val_accuracy: 0.7300\n",
            "Epoch 13/20\n",
            "1407/1407 [==============================] - 49s 35ms/step - loss: 2.7071 - accuracy: 0.7215 - val_loss: 2.6438 - val_accuracy: 0.7414\n",
            "Epoch 14/20\n",
            "1407/1407 [==============================] - 49s 35ms/step - loss: 2.6251 - accuracy: 0.7340 - val_loss: 2.5913 - val_accuracy: 0.7554\n",
            "Epoch 15/20\n",
            "1407/1407 [==============================] - 50s 35ms/step - loss: 2.5465 - accuracy: 0.7478 - val_loss: 2.5998 - val_accuracy: 0.7400\n",
            "Epoch 16/20\n",
            "1407/1407 [==============================] - 50s 35ms/step - loss: 2.4741 - accuracy: 0.7601 - val_loss: 2.4783 - val_accuracy: 0.7618\n",
            "Epoch 17/20\n",
            "1407/1407 [==============================] - 50s 35ms/step - loss: 2.4034 - accuracy: 0.7686 - val_loss: 2.4524 - val_accuracy: 0.7648\n",
            "Epoch 18/20\n",
            "1407/1407 [==============================] - 50s 36ms/step - loss: 2.3402 - accuracy: 0.7789 - val_loss: 2.4286 - val_accuracy: 0.7634\n",
            "Epoch 19/20\n",
            "1407/1407 [==============================] - 50s 36ms/step - loss: 2.2692 - accuracy: 0.7871 - val_loss: 2.3045 - val_accuracy: 0.7900\n",
            "Epoch 20/20\n",
            "1407/1407 [==============================] - 50s 36ms/step - loss: 2.2108 - accuracy: 0.7960 - val_loss: 2.2728 - val_accuracy: 0.7872\n"
          ],
          "name": "stdout"
        }
      ]
    },
    {
      "cell_type": "code",
      "metadata": {
        "id": "5Pg5qhdA5EHz",
        "outputId": "e806f637-2b4c-4373-c628-a7eabe2cb3ac",
        "colab": {
          "base_uri": "https://localhost:8080/"
        }
      },
      "source": [
        "tf.saved_model.save(model, \"my_model\")"
      ],
      "execution_count": 9,
      "outputs": [
        {
          "output_type": "stream",
          "text": [
            "WARNING:tensorflow:From /usr/local/lib/python3.6/dist-packages/tensorflow/python/training/tracking/tracking.py:111: Model.state_updates (from tensorflow.python.keras.engine.training) is deprecated and will be removed in a future version.\n",
            "Instructions for updating:\n",
            "This property should not be used in TensorFlow 2.0, as updates are applied automatically.\n",
            "WARNING:tensorflow:From /usr/local/lib/python3.6/dist-packages/tensorflow/python/training/tracking/tracking.py:111: Layer.updates (from tensorflow.python.keras.engine.base_layer) is deprecated and will be removed in a future version.\n",
            "Instructions for updating:\n",
            "This property should not be used in TensorFlow 2.0, as updates are applied automatically.\n",
            "INFO:tensorflow:Assets written to: my_model/assets\n"
          ],
          "name": "stdout"
        }
      ]
    },
    {
      "cell_type": "code",
      "metadata": {
        "id": "FizzmkOX5EH3"
      },
      "source": [
        "# tf.keras.callbacks.History()"
      ],
      "execution_count": 10,
      "outputs": []
    },
    {
      "cell_type": "code",
      "metadata": {
        "id": "fC2oE0DW5EH5"
      },
      "source": [
        "import matplotlib.pyplot as plt\n",
        "\n",
        "from matplotlib.pyplot import MultipleLocator"
      ],
      "execution_count": 11,
      "outputs": []
    },
    {
      "cell_type": "code",
      "metadata": {
        "id": "eHKwbOSW5EH9"
      },
      "source": [
        "# loss = np.array([4.9135, 4.2788, 4.0334, 3.8315, 3.6555, 3.5047, 3.3769, 3.2445, 3.1307, 3.0134, 2.9169, 2.8157,\n",
        "#         2.7311, 2.6391, 2.5590, 2.4917, 2.4134, 2.3420, 2.2831, 2.2193])\n",
        "# acc = np.array([0.2034, 0.3247, 0.3978, 0.4610, 0.5110, 0.5471, 0.5778, 0.6074, 0.6296, 0.6540, 0.6731, 0.6935,\n",
        "#        0.7090, 0.7242, 0.7392, 0.7515, 0.7626, 0.7757, 0.7819, 0.7914])*100\n",
        "# val_acc = np.array([0.2856, 0.2826, 0.3360, 0.4118, 0.4668, 0.4964, 0.5756, 0.6286, 0.6680, 0.6728, 0.6168, 0.6990,\n",
        "#            0.7160, 0.7178, 0.7628, 0.7544, 0.7868, 0.7814, 0.7904, 0.7890])*100"
      ],
      "execution_count": 12,
      "outputs": []
    },
    {
      "cell_type": "code",
      "metadata": {
        "id": "JLLMLkWZ5EIC",
        "outputId": "f4052c16-89dc-4fb7-e596-0379256d6579",
        "colab": {
          "base_uri": "https://localhost:8080/",
          "height": 573
        }
      },
      "source": [
        "plt.plot(history.history['accuracy'])\n",
        "plt.plot(history.history['val_accuracy'])\n",
        "plt.title('Model accuracy')\n",
        "plt.ylabel('Accuracy')\n",
        "plt.xlabel('Epoch')\n",
        "plt.legend(['Train', 'Test'], loc='upper left')\n",
        "plt.show()\n",
        "\n",
        "# 绘制训练 & 验证的损失值\n",
        "plt.plot(history.history['loss'])\n",
        "plt.plot(history.history['val_loss'])\n",
        "plt.title('Model loss')\n",
        "plt.ylabel('Loss')\n",
        "plt.xlabel('Epoch')\n",
        "plt.legend(['Train', 'Test'], loc='upper left')\n",
        "plt.show()"
      ],
      "execution_count": 14,
      "outputs": [
        {
          "output_type": "display_data",
          "data": {
            "image/png": "[encoded data removed]",
            "text/plain": [
              "<Figure size 432x288 with 1 Axes>"
            ]
          },
          "metadata": {
            "tags": [],
            "needs_background": "light"
          }
        },
        {
          "output_type": "display_data",
          "data": {
            "image/png": "[encoded data removed]",
            "text/plain": [
              "<Figure size 432x288 with 1 Axes>"
            ]
          },
          "metadata": {
            "tags": [],
            "needs_background": "light"
          }
        }
      ]
    }
  ]
}